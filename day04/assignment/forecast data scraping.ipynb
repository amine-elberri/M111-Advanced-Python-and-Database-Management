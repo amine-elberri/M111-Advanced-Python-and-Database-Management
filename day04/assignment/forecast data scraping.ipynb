{
  "cells": [
    {
      "cell_type": "markdown",
      "id": "3bf3292a",
      "metadata": {
        "id": "3bf3292a"
      },
      "source": [
        "### Exercice:\n",
        "\n",
        "Scraping weather forecase from the The Weather Channel website `weather.com` using `requests` and `BeautifulSoup` libraries.\n",
        "\n",
        "1. Implement a scraping script for getting 10 days weather forecasts of Benguerir city and Tanger City.\n",
        "2. Store the data sets into Pandas DataFrame.\n",
        "3. Use matplotlib library to plot the raining days of the two cities in the same figure.  \n"
      ]
    },
    {
      "cell_type": "markdown",
      "source": [
        "\n",
        "\n",
        "***1.1-   Getting the 10 days weather forecast for Benguerir :***\n",
        "\n",
        "\n"
      ],
      "metadata": {
        "id": "YVLvvGpu-zYe"
      },
      "id": "YVLvvGpu-zYe"
    },
    {
      "cell_type": "code",
      "source": [
        "import requests\n",
        "from bs4 import BeautifulSoup\n",
        "\n",
        "# Set the URL of the website you want to scrape\n",
        "url = \"https://weather.com/weather/tenday/l/f37580e42d804f6d54467e56dd9f296e15fe9a25db53ddee63601416ecc06111?unit=m\"\n",
        "\n",
        "# Make a request to the website\n",
        "response = requests.get(url)\n",
        "\n",
        "# Parse the HTML content\n",
        "soup = BeautifulSoup(response.text, \"html.parser\")\n",
        "\n",
        "# Find the container element that holds the forecast data\n",
        "container = soup.find('div', id=\"WxuDailyCard-main-a43097e1-49d7-4df7-9d1a-334b29628263\")\n",
        "\n",
        "# Initialize an empty list to store the forecast data\n",
        "forecast_data = []\n",
        "\n",
        "# Find the individual forecast elements\n",
        "date_elements = container.find_all('h3', class_ = 'DetailsSummary--daypartName--kbngc')\n",
        "desc_elements = container.find_all('span', class_= 'DetailsSummary--extendedData--307Ax')\n",
        "high_temp_elements = container.find_all('span', class_ = 'DetailsSummary--highTempValue--3PjlX')\n",
        "low_temp_elements = container.find_all('span', class_ = 'DetailsSummary--lowTempValue--2tesQ')\n",
        "precip_elements = container.find_all('div', class_= 'DetailsSummary--precip--1a98O')\n",
        "wind_elements = container.find_all('span', class_ = 'Wind--windWrapper--3Ly7c undefined')\n",
        "\n",
        "# Extract the data from the forecast elements and store it in a list\n",
        "for i in range(10):\n",
        "    forecast_data.append({\n",
        "        \"Date\": date_elements[i].text,\n",
        "        \"Description\": desc_elements[i].text,\n",
        "        \"High temperature\": high_temp_elements[i].text,\n",
        "        \"Low temperature\": low_temp_elements[i].text,\n",
        "        \"Precipitation\": precip_elements[i].text,\n",
        "        \"Wind\": wind_elements[i].text\n",
        "    })\n",
        "\n",
        "# Print the forecast data\n",
        "print(forecast_data)"
      ],
      "metadata": {
        "id": "9gb9K-F55rYx",
        "outputId": "a2ef4ef8-6e49-4583-cb23-34d183265283",
        "colab": {
          "base_uri": "https://localhost:8080/"
        }
      },
      "id": "9gb9K-F55rYx",
      "execution_count": 27,
      "outputs": [
        {
          "output_type": "stream",
          "name": "stdout",
          "text": [
            "[{'Date': 'Tonight', 'Description': 'Clear', 'High temperature': '--', 'Low temperature': '8°', 'Precipitation': 'Rain10%', 'Wind': 'E 9 km/h'}, {'Date': 'Mon 19', 'Description': 'Partly Cloudy', 'High temperature': '23°', 'Low temperature': '8°', 'Precipitation': 'Rain8%', 'Wind': 'E 12 km/h'}, {'Date': 'Tue 20', 'Description': 'Partly Cloudy', 'High temperature': '23°', 'Low temperature': '7°', 'Precipitation': 'Rain8%', 'Wind': 'SSE 11 km/h'}, {'Date': 'Wed 21', 'Description': 'Sunny', 'High temperature': '22°', 'Low temperature': '7°', 'Precipitation': 'Rain8%', 'Wind': 'ENE 13 km/h'}, {'Date': 'Thu 22', 'Description': 'Sunny', 'High temperature': '22°', 'Low temperature': '7°', 'Precipitation': 'Rain12%', 'Wind': 'ENE 12 km/h'}, {'Date': 'Fri 23', 'Description': 'Sunny', 'High temperature': '23°', 'Low temperature': '7°', 'Precipitation': 'Rain8%', 'Wind': 'SSW 13 km/h'}, {'Date': 'Sat 24', 'Description': 'Sunny', 'High temperature': '22°', 'Low temperature': '6°', 'Precipitation': 'Rain7%', 'Wind': 'SSE 11 km/h'}, {'Date': 'Sun 25', 'Description': 'Sunny', 'High temperature': '22°', 'Low temperature': '8°', 'Precipitation': 'Rain3%', 'Wind': 'E 13 km/h'}, {'Date': 'Mon 26', 'Description': 'Mostly Sunny', 'High temperature': '22°', 'Low temperature': '8°', 'Precipitation': 'Rain1%', 'Wind': 'SSE 15 km/h'}, {'Date': 'Tue 27', 'Description': 'Partly Cloudy', 'High temperature': '21°', 'Low temperature': '8°', 'Precipitation': 'Rain7%', 'Wind': 'S 15 km/h'}]\n"
          ]
        }
      ]
    },
    {
      "cell_type": "markdown",
      "source": [
        "***1.2-   Storing into Panda DataFrame :***"
      ],
      "metadata": {
        "id": "eK8sQmrY_dAD"
      },
      "id": "eK8sQmrY_dAD"
    },
    {
      "cell_type": "code",
      "execution_count": 29,
      "id": "e2008bdb",
      "metadata": {
        "id": "e2008bdb",
        "outputId": "f0926400-44c7-4b1d-a424-d926cece0261",
        "colab": {
          "base_uri": "https://localhost:8080/"
        }
      },
      "outputs": [
        {
          "output_type": "stream",
          "name": "stdout",
          "text": [
            "      Date    Description High temperature Low temperature Precipitation  \\\n",
            "0  Tonight          Clear               --              8°       Rain10%   \n",
            "1   Mon 19  Partly Cloudy              23°              8°        Rain8%   \n",
            "2   Tue 20  Partly Cloudy              23°              7°        Rain8%   \n",
            "3   Wed 21          Sunny              22°              7°        Rain8%   \n",
            "4   Thu 22          Sunny              22°              7°       Rain12%   \n",
            "5   Fri 23          Sunny              23°              7°        Rain8%   \n",
            "6   Sat 24          Sunny              22°              6°        Rain7%   \n",
            "7   Sun 25          Sunny              22°              8°        Rain3%   \n",
            "8   Mon 26   Mostly Sunny              22°              8°        Rain1%   \n",
            "9   Tue 27  Partly Cloudy              21°              8°        Rain7%   \n",
            "\n",
            "          Wind  \n",
            "0     E 9 km/h  \n",
            "1    E 12 km/h  \n",
            "2  SSE 11 km/h  \n",
            "3  ENE 13 km/h  \n",
            "4  ENE 12 km/h  \n",
            "5  SSW 13 km/h  \n",
            "6  SSE 11 km/h  \n",
            "7    E 13 km/h  \n",
            "8  SSE 15 km/h  \n",
            "9    S 15 km/h  \n"
          ]
        }
      ],
      "source": [
        "benguerir= pd.DataFrame(forecast_data)\n",
        "print(benguerir)\n"
      ]
    },
    {
      "cell_type": "markdown",
      "source": [
        "***2.1-  Getting the weather forecasts for Tanger :***"
      ],
      "metadata": {
        "id": "UsYWMBbBDFJL"
      },
      "id": "UsYWMBbBDFJL"
    },
    {
      "cell_type": "code",
      "source": [
        "import requests\n",
        "from bs4 import BeautifulSoup\n",
        "\n",
        "# Set the URL of the website you want to scrape\n",
        "url2 = \"https://weather.com/weather/tenday/l/701d5f2dd2a2b8cabcc505d69649a291257de6c1369a982396ea546ccb99198c?unit=m\"\n",
        "\n",
        "# Make a request to the website\n",
        "response = requests.get(url2)\n",
        "\n",
        "# Parse the HTML content\n",
        "soup2 = BeautifulSoup(response.text, \"html.parser\")\n",
        "\n",
        "# Find the container element that holds the forecast data\n",
        "container = soup2.find('div', id=\"WxuDailyCard-main-a43097e1-49d7-4df7-9d1a-334b29628263\")\n",
        "\n",
        "# Initialize an empty list to store the forecast data\n",
        "forecast_data2 = []\n",
        "\n",
        "# Find the individual forecast elements\n",
        "date_elements = container.find_all('h3', class_ = 'DetailsSummary--daypartName--kbngc')\n",
        "desc_elements = container.find_all('span', class_= 'DetailsSummary--extendedData--307Ax')\n",
        "high_temp_elements = container.find_all('span', class_ = 'DetailsSummary--highTempValue--3PjlX')\n",
        "low_temp_elements = container.find_all('span', class_ = 'DetailsSummary--lowTempValue--2tesQ')\n",
        "precip_elements = container.find_all('div', class_= 'DetailsSummary--precip--1a98O')\n",
        "wind_elements = container.find_all('span', class_ = 'Wind--windWrapper--3Ly7c undefined')\n",
        "\n",
        "# Extract the data from the forecast elements and store it in a list\n",
        "for i in range(10):\n",
        "    forecast_data2.append({\n",
        "        \"Date\": date_elements[i].text,\n",
        "        \"Description\": desc_elements[i].text,\n",
        "        \"High temperature\": high_temp_elements[i].text,\n",
        "        \"Low temperature\": low_temp_elements[i].text,\n",
        "        \"Precipitation\": precip_elements[i].text,\n",
        "        \"Wind\": wind_elements[i].text\n",
        "    })\n",
        "\n",
        "# Print the forecast data\n",
        "print(forecast_data2)"
      ],
      "metadata": {
        "id": "i0cR6uByDYAB",
        "outputId": "d3fe6162-38dc-4195-b881-97f5c44a3338",
        "colab": {
          "base_uri": "https://localhost:8080/"
        }
      },
      "id": "i0cR6uByDYAB",
      "execution_count": 31,
      "outputs": [
        {
          "output_type": "stream",
          "name": "stdout",
          "text": [
            "[{'Date': 'Tonight', 'Description': 'Mostly Clear', 'High temperature': '--', 'Low temperature': '14°', 'Precipitation': 'Rain12%', 'Wind': 'E 18 km/h'}, {'Date': 'Mon 19', 'Description': 'Partly Cloudy', 'High temperature': '21°', 'Low temperature': '13°', 'Precipitation': 'Rain14%', 'Wind': 'E 17 km/h'}, {'Date': 'Tue 20', 'Description': 'Partly Cloudy', 'High temperature': '22°', 'Low temperature': '16°', 'Precipitation': 'Rain15%', 'Wind': 'SSE 17 km/h'}, {'Date': 'Wed 21', 'Description': 'AM Showers', 'High temperature': '19°', 'Low temperature': '14°', 'Precipitation': 'Rain42%', 'Wind': 'WSW 11 km/h'}, {'Date': 'Thu 22', 'Description': 'Partly Cloudy', 'High temperature': '19°', 'Low temperature': '13°', 'Precipitation': 'Rain14%', 'Wind': 'NW 8 km/h'}, {'Date': 'Fri 23', 'Description': 'Sunny', 'High temperature': '20°', 'Low temperature': '13°', 'Precipitation': 'Rain12%', 'Wind': 'SSW 7 km/h'}, {'Date': 'Sat 24', 'Description': 'Partly Cloudy', 'High temperature': '19°', 'Low temperature': '12°', 'Precipitation': 'Rain22%', 'Wind': 'SW 9 km/h'}, {'Date': 'Sun 25', 'Description': 'Partly Cloudy', 'High temperature': '21°', 'Low temperature': '14°', 'Precipitation': 'Rain22%', 'Wind': 'ESE 13 km/h'}, {'Date': 'Mon 26', 'Description': 'Partly Cloudy', 'High temperature': '20°', 'Low temperature': '14°', 'Precipitation': 'Rain24%', 'Wind': 'E 17 km/h'}, {'Date': 'Tue 27', 'Description': 'Partly Cloudy', 'High temperature': '20°', 'Low temperature': '14°', 'Precipitation': 'Rain24%', 'Wind': 'SE 16 km/h'}]\n"
          ]
        }
      ]
    },
    {
      "cell_type": "markdown",
      "source": [
        "***2.2-   Storing into Panda DataFrame :***"
      ],
      "metadata": {
        "id": "g0PT8QfdEJS8"
      },
      "id": "g0PT8QfdEJS8"
    },
    {
      "cell_type": "code",
      "source": [
        "Tanger= pd.DataFrame(forecast_data2)\n",
        "print(Tanger)\n"
      ],
      "metadata": {
        "id": "35j1v4n6ERK2",
        "outputId": "0f321521-1f51-451a-8dba-dd32f214ced8",
        "colab": {
          "base_uri": "https://localhost:8080/"
        }
      },
      "id": "35j1v4n6ERK2",
      "execution_count": 34,
      "outputs": [
        {
          "output_type": "stream",
          "name": "stdout",
          "text": [
            "      Date    Description High temperature Low temperature Precipitation  \\\n",
            "0  Tonight   Mostly Clear               --             14°       Rain12%   \n",
            "1   Mon 19  Partly Cloudy              21°             13°       Rain14%   \n",
            "2   Tue 20  Partly Cloudy              22°             16°       Rain15%   \n",
            "3   Wed 21     AM Showers              19°             14°       Rain42%   \n",
            "4   Thu 22  Partly Cloudy              19°             13°       Rain14%   \n",
            "5   Fri 23          Sunny              20°             13°       Rain12%   \n",
            "6   Sat 24  Partly Cloudy              19°             12°       Rain22%   \n",
            "7   Sun 25  Partly Cloudy              21°             14°       Rain22%   \n",
            "8   Mon 26  Partly Cloudy              20°             14°       Rain24%   \n",
            "9   Tue 27  Partly Cloudy              20°             14°       Rain24%   \n",
            "\n",
            "          Wind  \n",
            "0    E 18 km/h  \n",
            "1    E 17 km/h  \n",
            "2  SSE 17 km/h  \n",
            "3  WSW 11 km/h  \n",
            "4    NW 8 km/h  \n",
            "5   SSW 7 km/h  \n",
            "6    SW 9 km/h  \n",
            "7  ESE 13 km/h  \n",
            "8    E 17 km/h  \n",
            "9   SE 16 km/h  \n"
          ]
        }
      ]
    },
    {
      "cell_type": "markdown",
      "source": [
        "***3-  Plotting the raining days of the two cities in the same figure. :***"
      ],
      "metadata": {
        "id": "ZVdB-whCLgDc"
      },
      "id": "ZVdB-whCLgDc"
    },
    {
      "cell_type": "code",
      "source": [
        "from sklearn.preprocessing import OrdinalEncoder\n",
        "\n",
        "ord_enc = OrdinalEncoder()\n",
        "benguerir[\"state\"] = ord_enc.fit_transform(benguerir[[\"Description\"]])\n",
        "Tanger[\"state\"] = ord_enc.fit_transform(Tanger[[\"Description\"]])\n",
        "import matplotlib.pyplot as plt\n",
        "\n",
        "# Plot the state_to_code values for benguerir and Tanger\n",
        "plt.plot(benguerir['state'], color='r', label='Benguerir')\n",
        "plt.plot(Tanger['state'], color='b', label='Tangier')\n",
        "\n",
        "# Add x-axis labels\n",
        "plt.xlabel(\"state\")\n",
        "\n",
        "# Add a title\n",
        "plt.title(\"Raining days for Tangier and Benguerir\")\n",
        "\n",
        "# Add a legend\n",
        "plt.legend()\n",
        "\n",
        "# Add grid lines\n",
        "plt.grid()\n",
        "\n",
        "# Show the plot\n",
        "plt.show()"
      ],
      "metadata": {
        "id": "Oz2QR7i4GV5a",
        "outputId": "82670a1f-1df6-4e8d-f4bb-1e90bd89d295",
        "colab": {
          "base_uri": "https://localhost:8080/",
          "height": 295
        }
      },
      "id": "Oz2QR7i4GV5a",
      "execution_count": 46,
      "outputs": [
        {
          "output_type": "display_data",
          "data": {
            "text/plain": [
              "<Figure size 432x288 with 1 Axes>"
            ],
            "image/png": "[encoded data removed]"
          },
          "metadata": {
            "needs_background": "light"
          }
        }
      ]
    }
  ],
  "metadata": {
    "kernelspec": {
      "display_name": "Python 3 (ipykernel)",
      "language": "python",
      "name": "python3"
    },
    "language_info": {
      "codemirror_mode": {
        "name": "ipython",
        "version": 3
      },
      "file_extension": ".py",
      "mimetype": "text/x-python",
      "name": "python",
      "nbconvert_exporter": "python",
      "pygments_lexer": "ipython3",
      "version": "3.8.10"
    },
    "colab": {
      "provenance": []
    }
  },
  "nbformat": 4,
  "nbformat_minor": 5
}