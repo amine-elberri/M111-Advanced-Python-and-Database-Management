{
  "cells": [
    {
      "cell_type": "markdown",
      "metadata": {
        "id": "MoQJDy4C3PdG"
      },
      "source": [
        "# Oriented Object Programming Exercices"
      ]
    },
    {
      "cell_type": "markdown",
      "metadata": {
        "id": "SpvlW0iz3PdQ"
      },
      "source": [
        "## Exercice 1:\n",
        "\n",
        "- consedering the following code\n",
        "\n",
        "```python\n",
        "import datetime # we will use this for date objects\n",
        "\n",
        "class Person:\n",
        "\n",
        "    def __init__(self, name, surname, birthdate, address, telephone, email):\n",
        "        self.name = name\n",
        "        self.surname = surname\n",
        "        self.birthdate = birthdate\n",
        "\n",
        "        self.address = address\n",
        "        self.telephone = telephone\n",
        "        self.email = email\n",
        "\n",
        "    def age(self):\n",
        "        today = datetime.date.today()\n",
        "        age = today.year - self.birthdate.year\n",
        "\n",
        "        if today < datetime.date(today.year, self.birthdate.month, self.birthdate.day):\n",
        "            age -= 1\n",
        "\n",
        "        return age\n",
        "\n",
        "person = Person(\n",
        "    \"Jane\",\n",
        "    \"Doe\",\n",
        "    datetime.date(1992, 3, 12), # year, month, day\n",
        "    \"No. 12 Short Street, Greenville\",\n",
        "    \"555 456 0987\",\n",
        "    \"jane.doe@example.com\"\n",
        ")\n",
        "\n",
        "print(person.name)\n",
        "print(person.email)\n",
        "print(person.age())\n",
        "```\n",
        "Explain what the following variables refer to, and their scope:\n",
        "1. Person\n",
        "2. person\n",
        "3. surname\n",
        "4. self\n",
        "5. age (the function name)\n",
        "6. age (the variable used inside the function)\n",
        "7. self.email\n",
        "8. person.email"
      ]
    },
    {
      "cell_type": "markdown",
      "metadata": {
        "id": "PgIAjnPg3PdU"
      },
      "source": [
        "### write your answer here\n",
        "1.  Class name\n",
        "2.  Class instance\n",
        "3.  Class attribute\n",
        "4.  Reference of the current instance of the class\n",
        "5.  Class method\n",
        "6.  A local class variable\n",
        "7.  Class attribute email\n",
        "8.  Attribute email of the instance person"
      ]
    },
    {
      "cell_type": "markdown",
      "metadata": {
        "id": "eqmELf8x3PdW"
      },
      "source": [
        "## Exercise 2 \n",
        "Create a Class with instance attributes. Write a Python program to create a Vehicle class with instance attributes: \n",
        " - max_speed\n",
        " - mileage "
      ]
    },
    {
      "cell_type": "code",
      "execution_count": 1,
      "metadata": {
        "id": "-1VxBUo63PdZ"
      },
      "outputs": [],
      "source": [
        "class Vehicle:\n",
        "    def __init__(self, max_speed, mileage):\n",
        "        self.max_speed = max_speed\n",
        "        self.mileage = mileage"
      ]
    },
    {
      "cell_type": "markdown",
      "metadata": {
        "id": "Ct622Y2R3Pde"
      },
      "source": [
        "## Exercice 3\n",
        "\n",
        "Create a Vehicle class without any variables and methods "
      ]
    },
    {
      "cell_type": "code",
      "execution_count": 2,
      "metadata": {
        "id": "fgpf1AdI3Pdf"
      },
      "outputs": [],
      "source": [
        "class Vehicle:\n",
        "    pass"
      ]
    },
    {
      "cell_type": "markdown",
      "metadata": {
        "id": "tzKVm_O63Pdi"
      },
      "source": [
        "## Exercice 4\n",
        "\n",
        "Create a child class Bus that will inherit all of the variables and methods of the Vehicle class\n",
        "- Desired output:\n",
        "```Python\n",
        "#> Vehicle Name: School Volvo Speed: 180 Mileage: 12\n",
        "```"
      ]
    },
    {
      "cell_type": "code",
      "execution_count": 3,
      "metadata": {
        "id": "M-FlsgZO3Pdk",
        "outputId": "535e2437-9cc7-477e-b7bc-43f0a0372f1c",
        "colab": {
          "base_uri": "https://localhost:8080/"
        }
      },
      "outputs": [
        {
          "output_type": "stream",
          "name": "stdout",
          "text": [
            "Vehicle Name: School Volvo Speed: 180 Mileage: 12\n"
          ]
        }
      ],
      "source": [
        "class Vehicle:\n",
        "\n",
        "    def __init__(self, name, max_speed, mileage):\n",
        "        self.name = name\n",
        "        self.max_speed = max_speed\n",
        "        self.mileage = mileage\n",
        "\n",
        "class Bus(Vehicle):\n",
        "    pass\n",
        "\n",
        "School_bus = Bus(\"School Volvo\", 180, 12)\n",
        "print(\"Vehicle Name:\", School_bus.name, \"Speed:\", School_bus.max_speed, \"Mileage:\", School_bus.mileage)"
      ]
    },
    {
      "cell_type": "markdown",
      "metadata": {
        "id": "35OcmOT93Pdm"
      },
      "source": [
        "## Exercice 5 (Class Inheritance)\n",
        "\n",
        "- Input\n",
        "Create a Bus class that inherits from the Vehicle class. Give the capacity argument of `Bus.seating_capacity()` a default value of 50.\n",
        "\n",
        "Use the following code for your parent Vehicle class.\n",
        "```Python\n",
        "class Vehicle:\n",
        "    def __init__(self, name, max_speed, mileage):\n",
        "        self.name = name\n",
        "        self.max_speed = max_speed\n",
        "        self.mileage = mileage\n",
        "\n",
        "    def seating_capacity(self, capacity):\n",
        "        return f\"The seating capacity of a {self.name} is {capacity} passengers\"\n",
        "```\n",
        "- Desired output:\n",
        "```Python\n",
        "#> The seating capacity of a bus is 50 passengers\n",
        "```"
      ]
    },
    {
      "cell_type": "code",
      "execution_count": 4,
      "metadata": {
        "id": "q0yo2lv_3Pdo",
        "outputId": "e60d73a8-c46e-4f17-e25d-eb626bfe3287",
        "colab": {
          "base_uri": "https://localhost:8080/"
        }
      },
      "outputs": [
        {
          "output_type": "stream",
          "name": "stdout",
          "text": [
            "The seating capacity of a School Volvo is 50 passengers\n"
          ]
        }
      ],
      "source": [
        "class Vehicle:\n",
        "    def __init__(self, name, max_speed, mileage):\n",
        "        self.name = name\n",
        "        self.max_speed = max_speed\n",
        "        self.mileage = mileage\n",
        "\n",
        "    def seating_capacity(self, capacity):\n",
        "        return f\"The seating capacity of a {self.name} is {capacity} passengers\"\n",
        "\n",
        "class Bus(Vehicle):\n",
        "    def seating_capacity(self, capacity=50):\n",
        "        return f\"The seating capacity of a {self.name} is {capacity} passengers\"\n",
        "\n",
        "School_bus = Bus(\"School Volvo\", 180, 12)\n",
        "print(School_bus.seating_capacity())"
      ]
    },
    {
      "cell_type": "markdown",
      "metadata": {
        "id": "JD3jcdUy3Pdp"
      },
      "source": [
        "## Exercice 6\n",
        "\n",
        "Define a property that must have the same value for every class instance (object)\n",
        "\n",
        "Define a class attribute `\"color\"` with a default value white. I.e., Every Vehicle should be white.\n",
        "\n",
        "Use the following code for this exercise.\n",
        "\n",
        "```Python\n",
        "class Vehicle:\n",
        "\n",
        "    def __init__(self, name, max_speed, mileage):\n",
        "        self.name = name\n",
        "        self.max_speed = max_speed\n",
        "        self.mileage = mileage\n",
        "\n",
        "class Bus(Vehicle):\n",
        "    pass\n",
        "\n",
        "class Car(Vehicle):\n",
        "    pass\n",
        "```\n",
        "- Desiret output:\n",
        "```Python\n",
        "#> Color: White, Vehicle name: School Volvo, Speed: 180, Mileage: 12\n",
        "#> Color: White, Vehicle name: Audi Q5, Speed: 240, Mileage: 18\n",
        "```                "
      ]
    },
    {
      "cell_type": "code",
      "execution_count": 5,
      "metadata": {
        "id": "4aDzgYRn3Pdq",
        "outputId": "aadee52d-423a-475d-ad99-4320f163f18f",
        "colab": {
          "base_uri": "https://localhost:8080/"
        }
      },
      "outputs": [
        {
          "output_type": "stream",
          "name": "stdout",
          "text": [
            "car_name: School Volvo color: White Speed: 180 Mileage: 12\n",
            "car_name: Audi Q5 color: White Speed: 240 Mileage: 18\n"
          ]
        }
      ],
      "source": [
        "class Vehicle:\n",
        "    color = \"White\"\n",
        "\n",
        "    def __init__(self, name, max_speed, mileage):\n",
        "        self.name = name\n",
        "        self.max_speed = max_speed\n",
        "        self.mileage = mileage\n",
        "\n",
        "class Bus(Vehicle):\n",
        "    pass\n",
        "\n",
        "class Car(Vehicle):\n",
        "    pass\n",
        "\n",
        "School_bus = Bus(\"School Volvo\", 180, 12)\n",
        "print(\"car_name:\",School_bus.name,\"color:\",School_bus.color, \"Speed:\", School_bus.max_speed, \"Mileage:\", School_bus.mileage)\n",
        "car = Car(\"Audi Q5\", 240, 18)\n",
        "print(\"car_name:\",car.name,\"color:\",car.color,\"Speed:\",car.max_speed,\"Mileage:\",car.mileage)"
      ]
    },
    {
      "cell_type": "markdown",
      "metadata": {
        "id": "O12XtaAJ3Pdr"
      },
      "source": [
        "## Exercice 7  (Class Inheritance)\n",
        "- Input\n",
        "\n",
        "Create a Bus child class that inherits from the Vehicle class. The default fare charge of any vehicle is seating `capacity * 100`. If Vehicle is Bus instance, we need to add an extra 10% on full fare as a maintenance charge. So total fare for bus instance will become the `final amount = total fare + 10% of the total fare`.\n",
        "\n",
        "Note: The bus seating capacity is 50. so the final fare amount should be 5500. You need to override the fare() method of a Vehicle class in Bus class.\n",
        "\n",
        "Use the following code for your parent Vehicle class. We need to access the parent class from inside a method of a child class.\n",
        "```Python\n",
        "class Vehicle:\n",
        "    def __init__(self, name, mileage, capacity):\n",
        "        self.name = name\n",
        "        self.mileage = mileage\n",
        "        self.capacity = capacity\n",
        "\n",
        "    def fare(self):\n",
        "        return self.capacity * 100\n",
        "\n",
        "class Bus(Vehicle):\n",
        "    pass\n",
        "\n",
        "School_bus = Bus(\"School Volvo\", 12, 50)\n",
        "print(\"Total Bus fare is:\", School_bus.fare())\n",
        "```\n",
        "- Desired output:\n",
        "```Python\n",
        "#> Total Bus fare is: 5500.0\n",
        "```"
      ]
    },
    {
      "cell_type": "code",
      "execution_count": 6,
      "metadata": {
        "id": "n-2mfutA3Pdt",
        "outputId": "56b67c28-6a95-498c-eb14-3ab6903758e4",
        "colab": {
          "base_uri": "https://localhost:8080/"
        }
      },
      "outputs": [
        {
          "output_type": "stream",
          "name": "stdout",
          "text": [
            "Total Bus fare is: 5500.0\n"
          ]
        }
      ],
      "source": [
        "class Vehicle:\n",
        "    def __init__(self, name, mileage, capacity):\n",
        "        self.name = name\n",
        "        self.mileage = mileage\n",
        "        self.capacity = capacity\n",
        "\n",
        "    def fare(self):\n",
        "        return self.capacity * 100\n",
        "\n",
        "class Bus(Vehicle):\n",
        "    def fare(self):\n",
        "        amount = super().fare()\n",
        "        amount += amount * 10 / 100\n",
        "        return amount\n",
        "\n",
        "School_bus = Bus(\"School Volvo\", 12, 50)\n",
        "print(\"Total Bus fare is:\", School_bus.fare())"
      ]
    },
    {
      "cell_type": "markdown",
      "metadata": {
        "id": "AEDlxPBs3Pdt"
      },
      "source": [
        "## Exercice 8  (Check type of an object)\n",
        "\n",
        "Write a program to determine which class a given Bus object belongs to.\n",
        "- Input\n",
        "```Python\n",
        "class Vehicle:\n",
        "    def __init__(self, name, mileage, capacity):\n",
        "        self.name = name\n",
        "        self.mileage = mileage\n",
        "        self.capacity = capacity\n",
        "```\n",
        "```Python\n",
        "class Bus(Vehicle):\n",
        "    pass\n",
        "School_bus = Bus(\"School Volvo\", 12, 50)\n",
        "```\n"
      ]
    },
    {
      "cell_type": "code",
      "execution_count": 7,
      "metadata": {
        "id": "1Rf2rmqE3Pdu",
        "outputId": "0c0198be-5bfe-4e9e-b237-a8c25426e78e",
        "colab": {
          "base_uri": "https://localhost:8080/"
        }
      },
      "outputs": [
        {
          "output_type": "stream",
          "name": "stdout",
          "text": [
            "<class '__main__.Bus'>\n"
          ]
        }
      ],
      "source": [
        "class Vehicle:\n",
        "    def __init__(self, name, mileage, capacity):\n",
        "        self.name = name\n",
        "        self.mileage = mileage\n",
        "        self.capacity = capacity\n",
        "\n",
        "class Bus(Vehicle):\n",
        "    pass\n",
        "\n",
        "School_bus = Bus(\"School Volvo\", 12, 50)\n",
        "print(type(School_bus))\n"
      ]
    }
  ],
  "metadata": {
    "hide_input": false,
    "kernelspec": {
      "display_name": "Python 3",
      "language": "python",
      "name": "python3"
    },
    "language_info": {
      "codemirror_mode": {
        "name": "ipython",
        "version": 3
      },
      "file_extension": ".py",
      "mimetype": "text/x-python",
      "name": "python",
      "nbconvert_exporter": "python",
      "pygments_lexer": "ipython3",
      "version": "3.8.5"
    },
    "colab": {
      "provenance": []
    }
  },
  "nbformat": 4,
  "nbformat_minor": 0
}